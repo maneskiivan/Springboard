{
 "cells": [
  {
   "cell_type": "code",
   "execution_count": 10,
   "metadata": {},
   "outputs": [],
   "source": [
    "import json, requests, keyring, csv, time, logging\n",
    "from datetime import datetime\n",
    "import pandas as pd\n",
    "\n",
    "client_id = keyring.get_password('foursquare_client_id', 'foursquare_client_id')\n",
    "client_secret = keyring.get_password('foursquare_client_secret', 'foursquare_client_secret')\n",
    "\n",
    "\n",
    "lat_long = pd.read_csv('files/lat_long.csv')\n",
    "category = pd.read_csv('files/categories.csv')\n",
    "\n",
    "last_run_values = pd.read_csv('files/last_run_values.csv')\n",
    "\n",
    "# Creating a temp list from the categories starting from the last used category\n",
    "new_value = last_run_values['values'].values[1]\n",
    "position = category['category'][category['category'] == new_value].index.to_list()\n",
    "category_temp_list = category[(position[-1]):]\n",
    "\n",
    "# URL to search venues example with offset\n",
    "url = 'https://api.foursquare.com/v2/venues/search'\n",
    "\n",
    "# Creating a temp list from the categories starting from the last used category\n",
    "new_value = last_run_values['values'].values[1]\n",
    "position = category['category'][category['category'] == new_value].index.to_list()\n",
    "category_temp_list = category[(position[-1]):]\n",
    "\n",
    "venues = pd.read_csv('files/id_data.csv')\n",
    "unique_venues = venues['venue_id'].unique()"
   ]
  },
  {
   "cell_type": "code",
   "execution_count": 2,
   "metadata": {},
   "outputs": [],
   "source": [
    "%load_ext memory_profiler"
   ]
  },
  {
   "cell_type": "markdown",
   "metadata": {},
   "source": [
    "# Time to read the categories and lat long data\n",
    "## The files are read only once"
   ]
  },
  {
   "cell_type": "code",
   "execution_count": 3,
   "metadata": {},
   "outputs": [
    {
     "name": "stdout",
     "output_type": "stream",
     "text": [
      "3.38 ms ± 112 µs per loop (mean ± std. dev. of 7 runs, 100 loops each)\n"
     ]
    }
   ],
   "source": [
    "%%timeit\n",
    "lat_long = pd.read_csv('files/lat_long.csv')\n",
    "category = pd.read_csv('files/categories.csv')"
   ]
  },
  {
   "cell_type": "markdown",
   "metadata": {},
   "source": [
    "# Time to read the last used value\n",
    "## The file is read once on every hour after the hourly limit is reset"
   ]
  },
  {
   "cell_type": "code",
   "execution_count": 4,
   "metadata": {},
   "outputs": [
    {
     "name": "stdout",
     "output_type": "stream",
     "text": [
      "1.65 ms ± 146 µs per loop (mean ± std. dev. of 7 runs, 1000 loops each)\n"
     ]
    }
   ],
   "source": [
    "%timeit last_run_values = pd.read_csv('files/last_run_values.csv')"
   ]
  },
  {
   "cell_type": "markdown",
   "metadata": {},
   "source": [
    "# Time to read the venues IDs\n",
    "## The file is read once"
   ]
  },
  {
   "cell_type": "code",
   "execution_count": 5,
   "metadata": {},
   "outputs": [
    {
     "name": "stdout",
     "output_type": "stream",
     "text": [
      "3.7 s ± 168 ms per loop (mean ± std. dev. of 7 runs, 1 loop each)\n"
     ]
    }
   ],
   "source": [
    "%timeit venues = pd.read_csv('files/id_data.csv')"
   ]
  },
  {
   "cell_type": "markdown",
   "metadata": {},
   "source": [
    "# Time to get the unique venues IDs only\n",
    "## The process is ran once"
   ]
  },
  {
   "cell_type": "code",
   "execution_count": 6,
   "metadata": {},
   "outputs": [
    {
     "name": "stdout",
     "output_type": "stream",
     "text": [
      "271 ms ± 3.97 ms per loop (mean ± std. dev. of 7 runs, 1 loop each)\n"
     ]
    }
   ],
   "source": [
    "%timeit unique_venues = venues['venue_id'].unique()"
   ]
  },
  {
   "cell_type": "markdown",
   "metadata": {},
   "source": [
    "# Memory used to get the unique IDs\n",
    "## This process runs once"
   ]
  },
  {
   "cell_type": "code",
   "execution_count": 7,
   "metadata": {},
   "outputs": [
    {
     "name": "stdout",
     "output_type": "stream",
     "text": [
      "peak memory: 770.97 MiB, increment: 3.94 MiB\n"
     ]
    }
   ],
   "source": [
    "%memit venues['venue_id'].unique()"
   ]
  },
  {
   "cell_type": "markdown",
   "metadata": {},
   "source": [
    "# Performance measure for the get_id_data function"
   ]
  },
  {
   "cell_type": "code",
   "execution_count": 16,
   "metadata": {},
   "outputs": [],
   "source": [
    "params = dict(\n",
    "          client_id=client_id,\n",
    "          client_secret=client_secret,\n",
    "          v='20210529'  # <-- specifies the latest date for the API version\n",
    "        )"
   ]
  },
  {
   "cell_type": "code",
   "execution_count": 17,
   "metadata": {},
   "outputs": [],
   "source": [
    "def ll_generator(ll_list):\n",
    "    \"\"\"Yields the next value for lat_long\"\"\"\n",
    "    for i in ll_list:\n",
    "      yield i"
   ]
  },
  {
   "cell_type": "code",
   "execution_count": 24,
   "metadata": {},
   "outputs": [],
   "source": [
    "def get_id_data():\n",
    "    # URL to search venues example with offset\n",
    "    url = 'https://api.foursquare.com/v2/venues/search'\n",
    "    last_run_values = pd.read_csv('files/last_run_values.csv')\n",
    "    # Creating a temp list from the categories starting from the last used category\n",
    "    new_value = last_run_values['values'].values[-1]\n",
    "    position = category['category'][category['category'] == new_value].index.to_list()\n",
    "    category_temp_list = category[(position[-1]):]\n",
    "    # Create the lat_long generator\n",
    "    ll_iter = ll_generator(lat_long['lat_long'])\n",
    "    # value to be saved in the last run values file\n",
    "    category_id = None\n",
    "    end_of_search = False\n",
    "    with open('files/id_data_test.csv', 'a') as csv_file:\n",
    "      # creating a csv writer object\n",
    "      csvwriter = csv.writer(csv_file)\n",
    "      headers = 5000\n",
    "      # Going over the 5000 requests limit per hour\n",
    "      while headers > 1:\n",
    "        for i in category_temp_list['category']:\n",
    "          category_id = i\n",
    "          logging.info(f\"Runs category ID: {category_id}\")\n",
    "          if headers < 1:\n",
    "            break\n",
    "          if end_of_search:\n",
    "            break\n",
    "          for a in range(1, len(lat_long)):\n",
    "            try:\n",
    "              ll = next(ll_iter)\n",
    "            except StopIteration:\n",
    "              # Reset the lat_long generator\n",
    "              ll_iter = ll_generator(lat_long['lat_long'])\n",
    "              logging.info('The lat_long generator was reset')\n",
    "              ll = next(ll_iter)\n",
    "\n",
    "            params['ll'] = ll\n",
    "            params['categoryId'] = category_id\n",
    "            params['limit'] = 50\n",
    "\n",
    "            resp = requests.get(url=url, params=params)\n",
    "\n",
    "            try:\n",
    "              headers = int(dict(resp.headers)['X-RateLimit-Remaining'])\n",
    "            except:\n",
    "              logging.warning('The headers did not return a X-RateLimit-Remaining value')\n",
    "\n",
    "            if headers < 1:\n",
    "              break\n",
    "            if category_id == category['category'].tail(1).item() and ll == lat_long['lat_long'].tail(1).item():\n",
    "              end_of_search = True\n",
    "              break\n",
    "\n",
    "            data = json.loads(resp.text)\n",
    "            if data['meta']['code'] != 200:\n",
    "              logging.warning(f\"Error code in response: {data['meta']['code']}\")\n",
    "\n",
    "            try:\n",
    "              for venue in data['response']['venues']:\n",
    "                # writing the data rows to the csv file\n",
    "                csvwriter.writerows(\n",
    "                  [\n",
    "                    [venue['id'], str(datetime.now())]\n",
    "                  ]\n",
    "                )\n",
    "            except:\n",
    "              logging.critical(\"Did not write into the id_data.csv file\")"
   ]
  },
  {
   "cell_type": "code",
   "execution_count": 25,
   "metadata": {},
   "outputs": [
    {
     "name": "stdout",
     "output_type": "stream",
     "text": [
      "The line_profiler extension is already loaded. To reload it, use:\n",
      "  %reload_ext line_profiler\n"
     ]
    }
   ],
   "source": [
    "%load_ext line_profiler"
   ]
  },
  {
   "cell_type": "code",
   "execution_count": 5,
   "metadata": {},
   "outputs": [],
   "source": [
    "# No need to run this. The output is shown in the image viewer below\n",
    "# %lprun -f get_id_data get_id_data()"
   ]
  },
  {
   "cell_type": "code",
   "execution_count": 6,
   "metadata": {},
   "outputs": [
    {
     "data": {
      "text/html": [
       "\n",
       "        <iframe\n",
       "            width=\"1800\"\n",
       "            height=\"1200\"\n",
       "            src=\"files/get_id_data_performance.pdf\"\n",
       "            frameborder=\"0\"\n",
       "            allowfullscreen\n",
       "        ></iframe>\n",
       "        "
      ],
      "text/plain": [
       "<IPython.lib.display.IFrame at 0x7fe268301190>"
      ]
     },
     "execution_count": 6,
     "metadata": {},
     "output_type": "execute_result"
    }
   ],
   "source": [
    "from IPython.display import IFrame\n",
    "IFrame(\"files/get_id_data_performance.pdf\", width=1800, height=1200)"
   ]
  },
  {
   "cell_type": "code",
   "execution_count": null,
   "metadata": {},
   "outputs": [],
   "source": []
  }
 ],
 "metadata": {
  "kernelspec": {
   "display_name": "Python 3",
   "language": "python",
   "name": "python3"
  },
  "language_info": {
   "codemirror_mode": {
    "name": "ipython",
    "version": 3
   },
   "file_extension": ".py",
   "mimetype": "text/x-python",
   "name": "python",
   "nbconvert_exporter": "python",
   "pygments_lexer": "ipython3",
   "version": "3.8.3"
  }
 },
 "nbformat": 4,
 "nbformat_minor": 4
}
